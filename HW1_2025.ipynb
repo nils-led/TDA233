{
 "cells": [
  {
   "cell_type": "markdown",
   "metadata": {
    "colab_type": "text",
    "id": "1UKOQcXNtJ8e"
   },
   "source": [
    "# TDA233 / DIT382 Machine Learning: Homework 1 <br />\n",
    "**Goal:** Start working with Jupyter notebooks, introduction to probability and regression models <br />\n",
    "**Grader:** Jack Sandberg <br />\n",
    "**Submitted by:** Anna Davoodi, 000808-5763, annadav@student.chalmers.se; Nils Ledin, Personal no., email <br />"
   ]
  },
  {
   "cell_type": "markdown",
   "metadata": {
    "colab_type": "text",
    "id": "PQ8gZxqWtJ8h"
   },
   "source": [
    "# Read this before starting"
   ]
  },
  {
   "cell_type": "markdown",
   "metadata": {},
   "source": [
    "\n",
    "## General guidelines\n",
    "* Answer all fields marked with 📝 (and `# TODO` in the code blocks). This includes\n",
    "    * your name, personal number and email address above, and\n",
    "    * all later fields marked with \"📝 Your answer here:\".\n",
    "* Feel free to add more cells if needed.\n",
    "* All solutions to theoretical and pratical problems must be submitted in this notebook, and equations wherever required, should be formatted using LaTeX math-mode.\n",
    "    * Do NOT hand in an assignment that isn't runnable!\n",
    "* All discussion regarding practical problems, along with solutions and plots should be specified in this notebook. \n",
    "All plots/results should be visible such that the notebook does not have to be run. But the code in the notebook should reproduce the plots/results if we choose to do so.\n",
    "* All tables and other additional information should be included in this notebook.\n",
    "* **Before submitting, make sure that your code can run on another computer, i.e. that all plots can show on another computer including all your text and equations. It is good to check if your code can run here: https://colab.research.google.com**\n",
    "* **Submit your solutions as a notebook file (`.ipynb`) and in HTML format (`.html`). To export this notebook to HTML format click `File` $\\rightarrow$ `Download as` $\\rightarrow$ `HTML`.**\n",
    "\n",
    "**Jupyter/IPython Notebook** is a collaborative Python web-based environment. This will be used in all our Homework Assignments. It is installed in the halls ES61-ES62, E-studio and MT9. You can also use google-colab: https://colab.research.google.com\n",
    "to run these notebooks without having to download, install, or do anything on your own computer other than a browser.\n",
    "Some useful resources:\n",
    "1. https://jupyter-notebook-beginner-guide.readthedocs.io/en/latest/ (Quick-start guide)\n",
    "2. https://www.kdnuggets.com/2016/04/top-10-ipython-nb-tutorials.html\n",
    "3. http://jupyter-notebook.readthedocs.io/en/stable/examples/Notebook/Working%20With%20Markdown%20Cells.html (markdown)"
   ]
  },
  {
   "cell_type": "markdown",
   "metadata": {},
   "source": [
    "## Required software\n",
    "\n",
    "For the practical problem in this assignment you will need to install the following Python packages:\n",
    "\n",
    "- `numpy`: The fundamental package for scientific computing with Python (so fundamental there is a [Nature review](https://www.nature.com/articles/s41586-020-2649-2) on it)\n",
    "- `matplotlib`: Visualization with Python\n",
    "- `sklearn`: Scikit-learn is a package for performing machine learning in Python.\n",
    "\n",
    "> **Note:** In Google Colab you can install packages using   `!pip  install <package_name>`\n",
    "\n",
    "> **Note:** In Google Colab these packages should be preinstalled but it is a good habit to check if all required packages are installed beforehand and the installed versions of packages. Use `!pip list` to list packages installed by pip on Google Colab.\n",
    "\n",
    "> **Note:** We recommend that you install these packages in a [virtual environment](https://docs.python.org/3/library/venv.html) if you are running this on your own computer."
   ]
  },
  {
   "cell_type": "markdown",
   "metadata": {
    "colab_type": "text",
    "id": "fl1Lu21rtJ8k"
   },
   "source": [
    "# Part 1: Theoretical problems"
   ]
  },
  {
   "cell_type": "markdown",
   "metadata": {},
   "source": [
    "## Problem 1: Bayes Rule [3 points]\n",
    "\n",
    "After your yearly checkup, the doctor has bad news and good news. The\n",
    "bad news is that you tested positive for a very serious cancer and\n",
    "that the test is 99.5% accurate i.e. the probability of testing\n",
    "positive given you have the disease is 0.995. The probability of\n",
    "testing negative if you don’t have the disease is the same (also 0.995). The good news is that it is a rare condition affecting only 1 in 500 people. **What is the probability you actually have the disease?** \n",
    "\n",
    "After doing all your calculations you realize that there was a misprint on the test, and the accuracy was actually only 95% (for both testing postive given that you have the disease and for testing negative given that you do not have the disease). **How will this change your probability of having the disease?**\n",
    "\n",
    "Show all calculations and the final result. Remember to use LaTeX math-mode to format mathematical expressions and equations.\n"
   ]
  },
  {
   "cell_type": "markdown",
   "metadata": {},
   "source": [
    "### Probability of disease\n",
    "Let $C = $ cancer, $P =$ positive test. Thus $\\neg P = $ negative test, and $\\neg C =$ no cancer. We are given the following probabilities: \n",
    "\n",
    "$$\n",
    "\\pi(P|C)= 0.995, \\:\\: \\pi(N | \\neg C) = 0.995, \\:\\: \\pi(C)=\\frac{1}{500}.\n",
    "$$\n",
    "\n",
    "Our goal is to find $\\pi(C|P)$. From Bayes Theorem we obtain the following:\n",
    "\n",
    "$$\n",
    "\\pi(C|P) = \\pi(C) \\cdot \\frac{\\pi(P|C)}{\\pi(P)}.\n",
    "$$\n",
    "\n",
    "$\\pi(P)$ is calculated using the total law of probability as well as the complementary events:\n",
    "\n",
    "$$\n",
    "\\pi(P) = \\pi(P|C)\\cdot\\pi(C) + \\pi(P|\\neg C)\\cdot \\pi(\\neg C) = \\pi(P|C)\\cdot\\pi(C) + (1-\\pi(\\neg P |\\neg C))\\cdot (1-\\pi(C))=\\\\\\\n",
    "= 0.995\\cdot\\frac{1}{500}+0.005\\cdot\\frac{499}{500}=\\frac{0.995+499\\cdot0.005}{500}.\n",
    "$$\n",
    "\n",
    "In total we obtain\n",
    "\n",
    "$$\n",
    "\\pi(C|P) = \\frac{1}{500}\\cdot0.995\\cdot\\frac{500}{0.995+499\\cdot0.005}\\approx 0.285,\n",
    "$$\n",
    "meaning the probability of having cancer given the positive test is approximately $28.5$%.\n",
    "\n",
    "### Changes from adjusted probability for the test\n",
    "\n",
    "If $\\pi(P|C)=\\pi(\\neg P | \\neg C) = 0.95$, we have $\\pi(P|\\neg C) = 1-0.95=0.05$. Thus\n",
    "\n",
    "$$\n",
    "\\pi(C|P) = \\frac{1}{500}\\cdot 0.95 \\cdot \\frac{500}{0.95+499\\cdot0.05}\\approx0.04.\n",
    "$$\n",
    "\n",
    "Thus, the probability of having cancer given a positive test is now down to approximately $4$%."
   ]
  },
  {
   "cell_type": "markdown",
   "metadata": {},
   "source": [
    "## Problem 2: Setting hyperparameters [2 points]\n",
    "\n",
    "Suppose $\\theta$ is a random variable generated from a beta distribution as: $\\theta \\sim \\text{Beta}(a^2,b)$. Also assume that  the expectation of $\\theta$ is $m$: $E[\\theta] = m$\n",
    "and the variance of $\\theta$ is $v$: $\\text{Var}(\\theta) = v$. Express $a$ and $b$ in terms of (only) $m$ and $v$.\n",
    "For more information about the $\\text{Beta}$ distribution see https://en.wikipedia.org/wiki/Beta_distribution."
   ]
  },
  {
   "cell_type": "markdown",
   "metadata": {},
   "source": [
    "The expectation and variance for a random variable $\\theta \\sim Beta(\\alpha,\\beta)$ with general parameters $\\alpha,\\:\\beta$ are as follows\n",
    "\n",
    "$$\n",
    "E[\\theta]=\\frac{\\alpha}{\\alpha + \\beta}, \\:\\: Var[\\theta]=\\frac{\\alpha \\beta}{(\\alpha+\\beta)^2 (\\alpha+\\beta+1)}.\n",
    "$$\n",
    "\n",
    "In our case, $\\alpha = a^2$ and $\\beta = b$. With the given information we then have\n",
    "\n",
    "$$\n",
    "\\frac{a^2}{a^2 + b}=m \\Rightarrow b = a^2(\\frac{1}{m}-1) \\:\\: (\\text{note: } a^2+b=\\frac{a^2}{m}),\n",
    "$$\n",
    "\n",
    "$$\n",
    "\\frac{a^2 b}{(a^2+b)^2 (a^2 + b + 1)} = v \\Rightarrow \\frac{a^2 \\cdot a^2 (\\frac{1}{m}-1)}{\\big(\\frac{a^2}{m}\\big)^2 \\big(a^2+a^2(\\frac{1}{m}-1)+1\\big)}=...=\\frac{m^2-m}{\\frac{a^2}{m}+1}=v \\Rightarrow a^2 = \\frac{m^2-m^3}{v}-m. \n",
    "$$\n",
    "\n",
    "Using this information about $a^2$ we then obtain $b=\\frac{m^2-m^2-mv}{v}\\cdot(\\frac{1}{m}-1)=\\frac{(1-m)(m-m^2-v)}{v}$."
   ]
  },
  {
   "cell_type": "markdown",
   "metadata": {},
   "source": [
    "## Problem 3: Correlation and Independence [2 points]\n",
    "\n",
    "Let $X$ be a continuous random variable, uniformly distributed in $[-2, +2]$ and let $Y := X^4$. Clearly $Y$ is not independent of $X$ -- in fact it is uniquely determined by $X$. However, show that the covariance of $X$ and $Y$ is 0: $\\text{cov}(X, Y ) = 0$.\n",
    "Show and justify every step of the proof. Statements like \"it is obvious that, it is trivial ...\" will not be accepted."
   ]
  },
  {
   "cell_type": "markdown",
   "metadata": {},
   "source": [
    "The covariance between two random variables $X,Y$ is given by $Cov(X,Y) = E[[X-E[X]][Y-E[Y]]]$. Using properties for expected values such as linearity, as well as the given information that $Y=X^4$ we obtain\n",
    "\n",
    "$$\n",
    "Cov(X,Y) = E[[X-E[X]][Y-E[Y]]] = E[XY-YE[X]-XE[Y]+E[X]E[Y]]= \\\\\\ \n",
    "=E[XY]-E[YE[X]]-E[XE[Y]]+E[E[X]E[Y]]= \\\\\\\n",
    "= E[X^5]-E[X^4E[X]]-E[XE[X^4]]+E[E[X]E[X^4]].\n",
    "$$\n",
    "\n",
    "From the definition of expected value for a continuous random variable we obtain that\n",
    "\n",
    "$$\n",
    "E[X]=\\int_{-2}^2 \\frac{x}{2-(-2)} dx = 0 \\text{ since we are integrating an odd function over a symmetrical domain}, \\\\\\\n",
    "E[X^4] = \\int_{-2}^2 \\frac{x^4}{2-(-2)} dx = \\frac{1}{4}\\frac{x^5}{5}\\Big|_{-2}^2= \\frac{16}{5}, \\\\\\\n",
    "E[X^5] = \\int_{-2}^2 \\frac{x^5}{2-(-2)} dx = 0 \\text{ for the same reason as above}.\n",
    "$$\n",
    "\n",
    "Thus \n",
    "\n",
    "$$\n",
    "Cov(X,Y) = 0-E[X^4\\cdot 0] - E[X\\cdot \\frac{16}{5}]+E[0]= -\\frac{16}{5}E[X] = 0,\n",
    "$$\n",
    "\n",
    "with the second to last equality stemming from linearity."
   ]
  },
  {
   "cell_type": "markdown",
   "metadata": {},
   "source": [
    "## Problem 4: Spherical Gaussian estimation [4 points]\n",
    "\n",
    "Consider a dataset $X$ consisting of i.i.d. observations\n",
    "generated from a spherical Gaussian distribution $N(\\mu, \\sigma^2I)$, where $\\mu \\in \\mathbb{R}^p$, $I$ \n",
    "is the $p \\times p $ identity matrix, and $\\sigma^2$ is a scalar.\n",
    "\n",
    "Write the mathematical expression for the Maximum Likelihood Estimator (MLE) for $\\mu$ and $\\sigma$ in above setup.\n",
    "\n",
    "For more information about the spherical Gaussian distribution, see https://en.wikipedia.org/wiki/Multivariate_normal_distribution.\n",
    "For more information about the identity matrix see: https://en.wikipedia.org/wiki/Identity_matrix"
   ]
  },
  {
   "cell_type": "markdown",
   "metadata": {},
   "source": [
    "Considering a set of $n$ i.i.d samples $X_i\\sim N(\\mu,\\sigma^2I)$ ($i=1,\\dots,n$), the MLE for $\\mu$ and $\\sigma^2$ is defined as\n",
    "\n",
    "$$\n",
    "\\hat{\\mu}=\\text{argmax}_{\\mu} \\hat{\\ell},\\\\\n",
    "\\hat{\\sigma}=\\text{argmax}_{\\sigma^2} \\hat{\\ell}.\n",
    "$$\n",
    "\n",
    "Here, $\\hat{\\ell}$ called the likehood is defined as\n",
    "\n",
    "$$\n",
    "\\hat{\\ell}(\\mu,\\sigma^2I;X)=\\prod_{i=1}^n f(X_i;\\mu,\\sigma^2,I),\n",
    "$$\n",
    "\n",
    "where $f(X_i;\\mu,\\sigma^2,I)$ is the probability density function, which for the multivariate normal distribution is given by\n",
    "\n",
    "$$\n",
    "f(X_i;\\mu,\\sigma^2,I) = (2\\pi)^{-\\frac{p}{2}}\\text{det}(\\sigma^2 I)^{-\\frac{1}{2}}\\text{exp}\\Big(-\\frac{1}{2}(X_i-\\mu)^T(\\sigma^2 I)^{-1}(X_i-\\mu)\\Big),\n",
    "$$\n",
    "with det($A$) representing the determinant of matrix $A$ and exp($a$) representing $e^a$. In terms of the likelihood we obtain\n",
    "\n",
    "$$\n",
    "\\hat{\\ell}(\\mu,\\sigma^2,I;X) = \\prod_{i=1}^n (2\\pi)^{-\\frac{p}{2}}\\text{det}(\\sigma^2 I)^{-\\frac{1}{2}}\\text{exp}\\Big(-\\frac{1}{2}(X_i-\\mu)^T(\\sigma^2 I)^{-1}(X_i-\\mu)\\Big)= \\\\\\\n",
    "=(2\\pi)^{-\\frac{np}{2}}\\text{det}(\\sigma^2 I)^{-\\frac{n}{2}}\\text{exp}\\Big(-\\frac{1}{2}\\sum_{i=1}^n (X_i-\\mu)^T(\\sigma^2 I)^{-1}(X_i-\\mu)\\Big).\n",
    "$$\n",
    "\n",
    "What is left is to calculate what $\\hat{\\mu}=\\text{argmax}_{\\mu} \\hat{\\ell}$ and $\\hat{\\sigma^2}=\\text{argmax}_{\\sigma^2} \\hat{\\ell}$ are. This is done by, similarly to the exercises below (Part 2, Problem 5bc), taking the partial derivative of $\\hat{\\ell}$ with respect to $\\mu$ or $\\sigma^2$, depending on which MLE we are calculating. Since the normal distribution per construction is always concave, we know that setting the expression of the partial derivative to 0 will let us obtain which $\\mu$ or $\\sigma^2$ value will achive this (i.e the argmax for each parameter, respectively). \n",
    "\n",
    "To calculate the partial derivatives we first find $\\text{log}(\\hat{\\ell})$, to simplify the derivation. Note that the logarithm of the likelihood will perserve the location of the maximum, thus it is allowed to be used in this context:\n",
    "\n",
    "$$\n",
    "\\text{log}(\\hat{\\ell}) = -\\frac{np}{2}\\text{log}(2\\pi)-\\frac{n}{2}\\text{log}(\\text{det}(\\sigma^2 I))-\\frac{1}{2}\\sum_{i=1}^n (X_i - \\mu)^2 (\\sigma^2 I)^{-1}(X_i-\\mu).\n",
    "$$\n",
    "\n",
    "Firstly, note that $\\text{det}(\\sigma^2 I)=(\\sigma^2)^p$ and so $\\text{log}(\\text{det}(\\sigma^2 I))= p\\text{log}(\\sigma^2)$. Secondly, the inverse of the identity matrix is itself. Since $\\sigma^2$ is a scalar we can reformulate \n",
    "\n",
    "$$\n",
    "(X_i - \\mu)^2 (\\sigma^2 I)^{-1}(X_i-\\mu)= \\frac{1}{\\sigma^2}(X_i - \\mu)^2(X_i-\\mu) = \\frac{1}{\\sigma^2}({X_i}^T{X_i} - {X_i}^T\\mu-\\mu^T X_i + \\mu^T\\mu) = \\frac{1}{\\sigma^2} ({X_i}^T{X_i} - 2{X_i}^T\\mu + \\mu^T\\mu).\n",
    "$$\n",
    "\n",
    "The two last equalities stemming from calculations analogous of those Part 2, Problem 5b and 5c. With these reformulations, we take the partial derivative with respect to $\\mu$ \n",
    "\n",
    "$$\n",
    "\\frac{\\partial \\text{log}(\\hat{\\ell})}{\\partial \\mu} = 0+0-\\frac{1}{2\\sigma^2}\\sum_{i=1}^n(0-2X_i+2\\mu) = \\frac{1}{\\sigma^2}\\sum_{i=1}^n(X_i-\\mu).\n",
    "$$\n",
    "\n",
    "Solving for the maximum by setting this partial derivative to 0 yeilds\n",
    "\n",
    "$$\n",
    " \\frac{1}{\\sigma^2}\\sum_{i=1}^n(X_i-\\mu) = 0 \\Rightarrow \\sum_{i=1}^n(X_i-\\mu) = 0 \\Rightarrow \\mu n = \\sum_{i=1}^n X_i \\Rightarrow \\mu = \\hat{\\mu}= \\frac{1}{n}\\sum_{i=1}^n X_i.\n",
    "$$\n",
    "\n",
    "Similarly, for $\\sigma^2$, we obtain the partial derivative as\n",
    "\n",
    "$$\n",
    "\\frac{\\partial \\text{log}(\\hat{\\ell})}{\\partial \\sigma^2} = 0 - \\frac{np}{2\\sigma^2}+\\frac{1}{2\\sigma^4}\\sum_{i=1}^n ({X_i}^T{X_i} - 2{X_i}^T\\mu + \\mu^T\\mu).\n",
    "$$\n",
    "\n",
    "Setting this to 0 and solving for $\\sigma^2$ yeilds\n",
    "\n",
    "$$\n",
    "\\frac{np}{2\\sigma^2}=\\frac{1}{2\\sigma^4}\\sum_{i=1}^n ({X_i}^T{X_i} - 2{X_i}^T\\mu + \\mu^T\\mu) \\Rightarrow np\\sigma^2 = \\sum_{i=1}^n ({X_i}^T{X_i} - 2{X_i}^T\\mu + \\mu^T\\mu) \\Rightarrow \\sigma^2 = \\hat{\\sigma^2} = \\sum_{i=1}^n ({X_i}^T{X_i} - 2{X_i}^T\\mu + \\mu^T\\mu).\n",
    "$$\n",
    "\n",
    "Lastly, in the expression for $\\hat{\\sigma^2}$ we can substitute $\\mu$ with the expression for $\\hat{\\mu}$."
   ]
  },
  {
   "cell_type": "markdown",
   "metadata": {},
   "source": [
    "# Part 2: Practical problems"
   ]
  },
  {
   "cell_type": "markdown",
   "metadata": {},
   "source": [
    "## Problem 5: Linear Regression with regularization [9 points]\n",
    "\n",
    "You are newly recruited as a Data Scientist at a leading consultancy company in Gothenburg. Your first task at the job is to help the Swedish Public Health Agency (folkhälsomyndigheten) for predicting the diabetes progression of patients. Assume that you are given a dataset D of $n$ patients with $D = \\{ (\\mathbf{x}_i, y_i)\\}_{i=1}^n$ where $\\mathbf{x}_i \\in \\mathbb{R}^p$ represents numerical features of each patients and $y_i \\in \\mathbb{R}$ represent the numerical diabetes progression.  One can also view the dataset D as a pair of matrices $(\\mathbf{X}, \\mathbf{y})$ with $\\mathbf{X} \\in \\mathbb{R}^{n \\times p}$ and $\\mathbf{y} \\in \\mathbb{R}^{n \\times 1}$.\n",
    "\n",
    "Fresh with the lectures in the machine learning course at Chalmers, you would like to use a linear model to quickly perform the task. In order words, you would like to find a vector $\\mathbf{w} \\in \\mathbb{R}^{p \\times 1}$  such that $\\mathbf{y} = \\mathbf{X} \\mathbf{w}$.  However,  you have just read one of the most popular machine learning books and it argues that standard linear regression (for finding $\\mathbf{w}$) can lead to various problems such as non-uniqueness of the solution,  overfitting, etc. As a result, you decided to add a penalty term called regularization to control the optimisation problem. More specifically, you want to solve for: $\\min_{\\mathbf{w}}  \\mathcal{L}(\\mathbf{w})$ where  $\\mathcal{L}(\\mathbf{w}) = \\left(\\sum_{i=1}^n (y_i - \\mathbf{w}^T\\mathbf{x}_i)^2 \\right) + \\left(\\alpha \\sum_{j=1}^p w_j^2 \\right) $ with $\\alpha \\in \\mathbb{R}$ a small coefficient that you will decide later on.\n",
    "\n",
    "Please note the slight changes in the notation. Recall that in the lectures we had a dataset $\\{ (\\mathbf{x}_n, t_n)\\}_{n=1}^N$ where $\\mathbf{x}_n \\in \\mathbb{R}^D$ and $t_n \\in \\mathbb{R}$. We also appended $1$ to the begining of $\\mathbf{x}_n$ so both $\\mathbf{x}_n$ and $\\mathbf{w}$ were in $\\mathbb{R}^{D+1}$. Thus, here $p$ is the same thing as $D+1$. Compare $w_1, w_2, \\dots, w_p$ with $w_0, w_1, \\dots, w_D$."
   ]
  },
  {
   "cell_type": "markdown",
   "metadata": {},
   "source": [
    "### a) Expression for loss function [1 point]\n",
    "Write down $\\mathcal{L}(\\mathbf{w})$ in matrix/vector forms using only $\\mathbf{X}$, $\\mathbf{y}$ and $\\mathbf{w}$ and the L2 norm. In other words, you are not allowed to use any components $y_i, \\mathbf{w}_j$ or $\\mathbf{x}_i$ ( For any vector $\\mathbf{z}$ use the following notation $|\\mathbf{z}|_2$ to mean the L2 norm of  $\\mathbf{z}$ See http://mathworld.wolfram.com/L2-Norm.html for more information about the L2 norm.)"
   ]
  },
  {
   "cell_type": "markdown",
   "metadata": {},
   "source": [
    "In matrix form, $\\mathcal{L}(\\mathbf{w})$ is given by\n",
    "\n",
    "$$\n",
    "\\mathcal{L}(\\mathbf{w})= |\\mathbf{y}-\\mathbf{Xw}|_2^2+\\alpha|\\mathbf{w}|_2^2.\n",
    "$$"
   ]
  },
  {
   "cell_type": "markdown",
   "metadata": {},
   "source": [
    "### b) Gradient of loss function [1 point] \n",
    "Derive and write down in matrix/vector forms the gradient of $\\mathcal{L}(\\mathbf{w})$ with respect to $\\mathbf{w}$. Show all the derivations. (Hint: You can start by  computing the gradient of the full expression and then convert it to matrix/vector forms. You can also directly get the gradients from your answer in a))"
   ]
  },
  {
   "cell_type": "markdown",
   "metadata": {},
   "source": [
    "We start by expanding the expression given above for $\\mathcal{L}(\\mathbf{w})$ as follows\n",
    "\n",
    "$$\n",
    "\\mathcal{L}(\\mathbf{w})= |\\mathbf{y}-\\mathbf{Xw}|_2^2+\\alpha|\\mathbf{w}|_2^2 = (\\mathbf{y}-\\mathbf{Xw})^T(\\mathbf{y}-\\mathbf{Xw})+\\alpha \\mathbf{w}^T \\mathbf{w} = (\\mathbf{y}^T-\\mathbf{w}^T\\mathbf{X}^T)(\\mathbf{y}-\\mathbf{Xw}) + \\alpha \\mathbf{w}^T \\mathbf{w} = \\\\\\\n",
    "= \\mathbf{y}^T\\mathbf{y}-\\mathbf{y}^T\\mathbf{Xw}-\\mathbf{w}^T\\mathbf{X}^T\\mathbf{y}+ \\mathbf{w}^T\\mathbf{X}^T\\mathbf{Xw}+\\alpha \\mathbf{w}^T \\mathbf{w}.\n",
    "$$\n",
    "\n",
    "The second term in the last expression can be reformulated as $\\mathbf{y}^T\\mathbf{Xw}=\\mathbf{y}^T(\\mathbf{w}^T\\mathbf{X}^T)^T=(\\mathbf{w}^T\\mathbf{X}^T\\mathbf{y})^T$. Since $\\mathbf{w}^T\\in\\mathbb{R}^{1\\times p},\\:\\mathbf{X}^T\\in \\mathbb{R}^{p\\times n}$ and $\\mathbf{y}\\in \\mathbb{R}^{n\\times 1}$, then $\\mathbf{w}^T\\mathbf{X}^T\\in\\mathbb{R}^{1\\times n}$ which means that $(\\mathbf{w}^T\\mathbf{X}^T)\\mathbf{y}\\in\\mathbb{R}$. Ultimately, since this term is a scalar it follows that $\\mathbf{w}^T\\mathbf{X}^T\\mathbf{y}=(\\mathbf{w}^T\\mathbf{X}^T\\mathbf{y})^T=\\mathbf{y}^T\\mathbf{Xw}$. Thus,\n",
    "\n",
    "$$\n",
    "\\mathcal{L}(\\mathbf{w})=  \\mathbf{y}^T\\mathbf{y}-2\\mathbf{y}^T\\mathbf{Xw}+\\mathbf{w}^T\\mathbf{X}^T\\mathbf{Xw}+\\alpha \\mathbf{w}^T \\mathbf{w}.\n",
    "$$\n",
    "\n",
    "Using the rules for partial integration with respect to a vector we obtain\n",
    "\n",
    "$$\n",
    "\\frac{\\partial \\mathcal{L}}{\\partial \\mathbf{w}}=0-2\\mathbf{y}^T \\mathbf{X}+2\\mathbf{X}^T\\mathbf{Xw}+2\\alpha \\mathbf{w}=2\\mathbf{X}^T\\mathbf{Xw}-2\\mathbf{y}^T \\mathbf{X}+2\\alpha \\mathbf{w}.\n",
    "$$"
   ]
  },
  {
   "cell_type": "markdown",
   "metadata": {},
   "source": [
    "\n",
    "### c) Derive optimal solution [2 points]\n",
    "Derive and write down in matrix/vector forms the solution $\\mathbf{w}^*$ to the optimization problem $\\min_{\\mathbf{w}}  \\mathcal{L}(\\mathbf{w})$. Show all your derivations. (Hint: $\\mathcal{L}(\\mathbf{w})$ is convex in $\\mathbf{w}$)"
   ]
  },
  {
   "cell_type": "markdown",
   "metadata": {},
   "source": [
    "The optimum for $\\text{min}_{\\mathbf{w}}\\mathcal{L}(\\mathbf{w})$ is achieved by finding $\\mathbf{w}^*$ such that $\\frac{\\partial \\mathcal{L}}{\\partial \\mathbf{w}}=0$. Since $\\mathcal{L}(\\mathbf{w})$ is convex, if such an $\\mathbf{w}^*$ exists then it will be the $\\mathbf{w}$ which achieves the minimum.\n",
    "\n",
    "$$\n",
    "\\frac{\\partial \\mathcal{L}}{\\partial \\mathbf{w}}=0 \\Rightarrow 2\\mathbf{X}^T\\mathbf{Xw}-2\\mathbf{y}^T \\mathbf{X}+2\\alpha \\mathbf{w} = 0 \\Rightarrow \\mathbf{X}^T\\mathbf{Xw}+\\alpha \\mathbf{w} =  (\\mathbf{X}^T\\mathbf{X}+\\alpha\\mathbf{I})\\mathbf{w} = \\mathbf{y}^T \\mathbf{X} \\Rightarrow \\mathbf{w}= \\mathbf{y}^T\\mathbf{X}(\\mathbf{X}^T\\mathbf{X}+\\alpha\\mathbf{I})^{-1} = \\mathbf{w}^*.\n",
    "$$"
   ]
  },
  {
   "cell_type": "markdown",
   "metadata": {},
   "source": [
    "### d) Uniqueness of solution [2 points]\n",
    "Under which condition on the $\\alpha$ is the solution $\\mathbf{w}^*$ unique? Prove rigorously your statement. Make no assumptions on $\\mathbf{X}$. (Hint: If your solution $\\mathbf{w}^*$ requires to invert a matrix, then one necessary condition for uniqueness is for the matrix to be invertible. And any positive definitive matrix https://en.wikipedia.org/wiki/Definiteness_of_a_matrix is invertible. You might also want to look at the properties of transposition https://en.wikipedia.org/wiki/Transpose)\n"
   ]
  },
  {
   "cell_type": "markdown",
   "metadata": {},
   "source": [
    "For $\\mathbf{w}^*$ to be a unique solution, we need $(\\mathbf{X}^T\\mathbf{X}+\\alpha\\mathbf{I})$ to be invertible, meaning that it has to be positive definite. Since $X\\in\\mathbb{R}^{n\\times p}$, it follows that $\\mathbf{X}^T\\mathbf{X}$ is positive semidefinite. Then, if $\\alpha>0$ it follows that the eigenvalues for $\\mathbf{X}^T\\mathbf{X}+\\alpha \\mathbf{I}$, denoted as $\\lambda_j$ are defined as $\\lambda_j = \\lambda_i + \\alpha$, where $\\lambda_i$ are the eigenvalues for $\\mathbf{X}^T\\mathbf{X}$. From the definition of a positive semidefinite matrix we know that $\\lambda_i\\geq 0$, thus since $\\alpha>0$ it follows that $\\lambda_j>0$ which is exactly the definition of a positive definite matrix. In conclusion, $\\alpha>0$ is the condition for $\\mathbf{w}^*$ to be unique, since it allows the matrix $(\\mathbf{X}^T\\mathbf{X}+\\alpha\\mathbf{I})$ to be invertible.   "
   ]
  },
  {
   "cell_type": "markdown",
   "metadata": {},
   "source": [
    "\n",
    "### e) Implement linear model fitting [2 points]\n",
    "In the code block below, implement a well commented function `fit_linear_with_regularization` that takes as input $\\mathbf{X}$, $\\mathbf{y}$ and $\\alpha$ and return $\\mathbf{w}^*$ as computed in question 3. You are not allowed to use any loops (for-loop, while-loop ...) to do the implementation. Instead you must use numpy operations as much as possible. Also, do not forget that linear regression includes an offset term that should be accounted for.\n",
    "\n",
    "Fill in the `TODO` sections in the `fit_linear_with_regularization` function below.\n",
    "\n",
    "### f) Implement linear model prediction [3 points]\n",
    "In the code block below, implement a well commented function `predict` that takes as input a dataset $\\mathbf{X_{\\text{test}}}$ in the same dimensions as $\\mathbf{X}$ and return the predictions.   Write down the mean squared error (https://en.wikipedia.org/wiki/Mean_squared_error) of your predictions. Then on the same plot with legends, show:\n",
    "\n",
    " a) A scatter plot of the first feature of $\\mathbf{X_{\\text{test}}}$ (x-axis) and the diabetes progression $\\mathbf{y_{\\text{test}}}$ \n",
    " \n",
    " b) A plot of your prediction for $\\mathbf{X_{\\text{test}}}$\n",
    " \n",
    " The skeleton code in the cell below already implements most of data loading and you should only have to fill in the `TODO` sections. Again here no loops are allowed (for-loop, while loop in the implementation of the plots and the **predict** )\n"
   ]
  },
  {
   "cell_type": "code",
   "execution_count": 58,
   "metadata": {},
   "outputs": [
    {
     "name": "stdout",
     "output_type": "stream",
     "text": [
      "Mean Squared error is  2003.7501915365933\n"
     ]
    },
    {
     "data": {
      "image/png": "[encoded data removed]",
      "text/plain": [
       "<Figure size 640x480 with 1 Axes>"
      ]
     },
     "metadata": {},
     "output_type": "display_data"
    }
   ],
   "source": [
    "# Make it possible to show plots in the notebooks.\n",
    "#%matplotlib inline\n",
    "import matplotlib.pyplot as plt\n",
    "import numpy as np\n",
    "from sklearn import datasets\n",
    "\n",
    "\n",
    "def fit_linear_with_regularization(X, y, alpha):\n",
    "  X = np.c_[np.ones(X.shape[0]), X] # add intercept/bias to beginning of X\n",
    "  I = np.eye(X.shape[1]) # obtain identity vector of same dim as problem \n",
    "  w_opt = y.T @ X @ (np.linalg.inv(X.T @ X + alpha * I)) # calculate given term as given in ans 5c)\n",
    "\n",
    "  return w_opt \n",
    "\n",
    "def predict(X_test, w):\n",
    "  X_test = np.c_[np.ones(X_test.shape[0]), X_test]  # add offset\n",
    "  pred = X_test @ w \n",
    "  return pred \n",
    "\n",
    "def plot_prediction(X_test, y_test, y_pred):\n",
    "\n",
    "  # Scatter plot the first feature of X_test (x-axis) and y_test (y-axis)\n",
    "  plt.scatter(X_test[:,0], y_test, color ='blue', label = 'Actual data') #actual data\n",
    "   # Plot y_pred using the first feature of X_test as x-axis \n",
    "  plt.scatter(X_test[:,0], y_pred, color = 'red', label = 'Predicted data', marker = 'x') # predictions\n",
    "\n",
    "  # Labels, legends\n",
    "  plt.xlabel('First Feature')\n",
    "  plt.ylabel('Diabetes Progression')\n",
    "  plt.legend()\n",
    "\n",
    "  # Compute MSE \n",
    "  mean_squared_error = np.square(np.subtract(y_test, y_pred)).mean()\n",
    "  return mean_squared_error\n",
    "\n",
    "# Load the diabetes dataset\n",
    "X, y = datasets.load_diabetes(return_X_y=True)\n",
    "\n",
    "# Split the dataset into training and test set\n",
    "num_test_elements = 20\n",
    "\n",
    "X_train = X[:-num_test_elements]\n",
    "X_test = X[-num_test_elements:]\n",
    "\n",
    "y_train = y[:-num_test_elements]\n",
    "y_test = y[-num_test_elements:]\n",
    "\n",
    "# Set alpha\n",
    "alpha = 0.01\n",
    "\n",
    "# Train using linear regression with regularization and find optimal model\n",
    "w = fit_linear_with_regularization(X_train, y_train, alpha)\n",
    "\n",
    "# Make predictions using the testing set X_test\n",
    "y_pred = predict(X_test, w)\n",
    "\n",
    "# Plots and mean squared error\n",
    "error = plot_prediction(X_test, y_test, y_pred)\n",
    "print('Mean Squared error is ', error)\n",
    "\n",
    "# Show the plot\n",
    "plt.show()\n"
   ]
  },
  {
   "cell_type": "markdown",
   "metadata": {},
   "source": [
    "# Bonus problem\n",
    "Answering this question will not give you any additional points. Not answering this question will not prevent you from getting full points (if all other questions are answered correctly). However, if you answer this question, we will pick exactly one question where you didn't receive full points in this assignment and give you **at most** 4 more points there. In particular, between the questions for which you have reasonably attempted a solution, we will pick the one where the difference between the full point and the point you received is the maximum."
   ]
  },
  {
   "cell_type": "markdown",
   "metadata": {},
   "source": [
    "## Problem 5: Bayesian Linear Regression [up to 4 bonus points]\n",
    "\n",
    "Proud of finishing the task using a linear model with regularization, you show your results to a representative of the Swedish Public Health Agency. You barely finish explaining your solution when the face of the representative turns red and you could distinctly hear: \"Bayesian is the only way: How come didn't you use any probabilities?\". \n",
    "\n",
    "You quickly head back to your desk and now assume a Gaussian prior on the solution $\\mathbf{w}$, that is $p(\\mathbf{w}) = \\mathcal{N}(\\mathbf{0}, \\lambda^{-1} \\mathbf{I})$ where $\\lambda \\in \\mathbb{R}$ is a constant real number, $I$ is the $p \\times p$ identity matrix and $\\mathcal{N}(\\mathbf{0}, \\lambda^{-1} \\mathbf{I})$ is used to mean the multivariate gaussian distribution with mean $\\mathbf{0} \\in \\mathbb{R}^p$ , a vector of zeros of dimension $p$ and covariance matrix $\\lambda^{-1} \\mathbf{I}$ . Then, you use the following likelihood:\n",
    "\n",
    "$$p(\\mathbf{y} | \\mathbf{X}, \\mathbf{w}) = \\prod_{i=1}^n \\mathcal{N}(\\mathbf{w}^T \\mathbf{x}_i, \\gamma^{-1})$$\n",
    "\n",
    "where $\\gamma \\in \\mathbb{R}$ is a constant real number and $\\mathcal{N}(\\mathbf{w}^T \\mathbf{x}_i, \\gamma^{-1})$ is the Gaussian distribution with mean  $\\mathbf{w}^T \\mathbf{x}_i$ and variance $\\gamma^{-1}$.\n"
   ]
  },
  {
   "cell_type": "markdown",
   "metadata": {},
   "source": [
    "\n",
    "### a) Derive log posterior [2 points]\n",
    "Derive an expression for the log posterior $\\ln p(\\mathbf{w} | \\mathbf{y}, \\mathbf{X})$ in vector/matrix form as a function of $\\mathbf{X}, \\mathbf{y}, \\mathbf{w}$. Show all derivations. You can ignore normalizing constants.\n",
    "\n"
   ]
  },
  {
   "cell_type": "markdown",
   "metadata": {},
   "source": [
    "We start by expressing the posterior in terms of the likelihood and the prior, with the help of Bayes formula\n",
    "\n",
    "$$\\pi(\\mathbf{w}|\\mathbf{y,X}) = \\frac{\\pi(\\mathbf{y}|\\mathbf{w,X})\\pi(\\mathbf{w,X})}{\\pi(\\mathbf{y}|\\mathbf{X})} \\propto_{\\mathbf{w}} \\pi(\\mathbf{y}|\\mathbf{w, X})\\pi(\\mathbf{w}).$$ \n",
    "\n",
    "Thus, the log of the posterior will be proportional to \n",
    "\n",
    "$$\\text{ln}(\\pi(\\mathbf{w}|\\mathbf{y,X})) \\propto_{\\mathbf{w}} = \\text{ln}(\\pi(\\mathbf{y}|\\mathbf{w,X})) + \\text{ln}(\\pi(\\mathbf{w})).$$\n",
    "\n",
    "Next, we derive each term:\n",
    "\n",
    "$$\\text{ln}(\\pi(\\mathbf{y}|\\mathbf{w,X})) = \\text{ln}(\\prod_{i=1}^n \\mathcal{N}(\\mathbf{w}^T\\mathbf{x}_i,\\gamma^{-1})) = \\\\\n",
    "= \\text{ln}\\Big(\\prod_{i=1}^n\\frac{\\sqrt{\\gamma}}{\\sqrt{2\\pi}}\\text{exp}(-(\\mathbf{y}_i-\\mathbf{w}^T\\mathbf{x}_i)^2 \\frac{\\gamma}{2})\\Big) = \\sum_{i=1}^n \\Big(\\frac{1}{2}\\text{ln}(\\gamma)-\\frac{\\gamma}{2}(\\mathbf{y}_i-\\mathbf{w}^T\\mathbf{x}_i)^2-\\frac{1}{2}\\text{ln}(2\\pi)\\Big) = \\\\\n",
    "= -\\frac{\\gamma}{2}\\sum_{i=1}^n \\Big((\\mathbf{y}_i-\\mathbf{w}^T\\mathbf{x}_i)^2\\Big) = -\\frac{\\gamma}{2}(\\mathbf{y}-\\mathbf{Xw})^T(\\mathbf{y}-\\mathbf{Xw}),$$\n",
    "\n",
    "$$ \\text{ln}(\\pi(\\mathbf{w})) = \\text{ln}(\\mathcal{N}(\\mathbf{0},\\lambda^{-1}\\mathbf{I})) = \\text{ln}\\Big(\\frac{\\lambda^{p/2}}{(2\\pi)^{p/2}} \\exp( -\\frac{1}{2} \\mathbf{w}^T (\\lambda \\mathbf{I}) \\mathbf{w})\\Big) = \\text{ln}\\Big(\\frac{\\lambda^{p/2}}{(2\\pi)^{p/2}} \\exp( -\\frac{\\lambda}{2} \\mathbf{w}^T \\mathbf{w})\\Big) = -\\frac{\\lambda}{2} \\mathbf{w}^T \\mathbf{w}$$\n",
    "\n",
    "Finally, the expression for the log of the posterior will be \n",
    "\n",
    "$$ \\text{ln}(\\pi(\\mathbf{w}|\\mathbf{y,X})) =  -\\frac{\\gamma}{2}(\\mathbf{y}-\\mathbf{Xw})^T(\\mathbf{y}-\\mathbf{Xw}) -\\frac{\\lambda}{2} \\mathbf{w}^T \\mathbf{w}. $$"
   ]
  },
  {
   "cell_type": "markdown",
   "metadata": {},
   "source": [
    "\n",
    "### b) Equivalence of Bayesian and regularized regression [2 points]\n",
    "Show that maximizing the posterior in a) is  similar to minimizing the function $\\mathcal{L}(\\mathbf{w})$ seen in the previous section. Show your derivations. (Note: You should show this without computing the maximum of the posterior. Instead, you should express the log posterior in term of $\\mathcal{L}(\\mathbf{w})$, ignoring constants if necessary. Then find the $\\alpha$ of $\\mathcal{L}(\\mathbf{w})$ in term of $\\lambda$ and $\\gamma$)."
   ]
  },
  {
   "cell_type": "markdown",
   "metadata": {},
   "source": [
    "From before, \n",
    "$$\\mathcal{L}(w)=\\sum_{i=1}^n(y_i-w^Tx_i)^2+\\alpha\\sum_{j=1}^pw_j^2.$$\n",
    "\n",
    "In a) we found the log posterior to be\n",
    "$$\\ln(\\pi(w|y,X)) \\propto _w -\\frac{\\gamma}{2}\\sum_{i=1}^n(y_i-w^Tx_i)^2-\\frac{\\lambda}{2}\\sum_{j=1}^pw_j^2.$$\n",
    "\n",
    "Now we multiply by the constant $-2/\\gamma$ to get\n",
    "\n",
    "$$\\ln(\\pi(w|y,X)) \\propto _w \\sum_{i=1}^n(y_i-w^Tx_i)^2+\\frac{\\lambda}{\\gamma}\\sum_{j=1}^pw_j^2$$\n",
    "\n",
    "This is precisely equal to $\\mathcal{L}(w)$ when $\\alpha = \\lambda/\\gamma$"
   ]
  }
 ],
 "metadata": {
  "colab": {
   "name": "Hw1_2019.ipynb",
   "provenance": [
    {
     "file_id": "1Y5XjPfo2fv3nGBtIxbf0F_WFtssz1N_S",
     "timestamp": 1553254350644
    }
   ],
   "version": "0.3.2"
  },
  "kernelspec": {
   "display_name": "Python 3",
   "language": "python",
   "name": "python3"
  },
  "language_info": {
   "codemirror_mode": {
    "name": "ipython",
    "version": 3
   },
   "file_extension": ".py",
   "mimetype": "text/x-python",
   "name": "python",
   "nbconvert_exporter": "python",
   "pygments_lexer": "ipython3",
   "version": "3.11.0"
  }
 },
 "nbformat": 4,
 "nbformat_minor": 1
}
